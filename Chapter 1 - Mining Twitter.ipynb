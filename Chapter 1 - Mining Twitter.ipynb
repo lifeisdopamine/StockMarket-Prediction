{
 "cells": [
  {
   "cell_type": "markdown",
   "metadata": {},
   "source": [
    "#Mining the Social Web, 2nd Edition\n",
    "\n",
    "##Chapter 1: Mining Twitter: Exploring Trending Topics, Discovering What People Are Talking About, and More\n",
    "\n",
    "This IPython Notebook provides an interactive way to follow along with and explore the numbered examples from [_Mining the Social Web (2nd Edition)_](http://bit.ly/135dHfs). The intent behind this notebook is to reinforce the concepts from the sample code in a fun, convenient, and effective way. This notebook assumes that you are reading along with the book and have the context of the discussion as you work through these exercises.\n",
    "\n",
    "In the somewhat unlikely event that you've somehow stumbled across this notebook outside of its context on GitHub, [you can find the full source code repository here](http://bit.ly/16kGNyb).\n",
    "\n",
    "## Copyright and Licensing\n",
    "\n",
    "You are free to use or adapt this notebook for any purpose you'd like. However, please respect the [Simplified BSD License](https://github.com/ptwobrussell/Mining-the-Social-Web-2nd-Edition/blob/master/LICENSE.txt) that governs its use."
   ]
  },
  {
   "cell_type": "markdown",
   "metadata": {},
   "source": [
    "# Twitter API Access\n",
    "\n",
    "Twitter implements OAuth 1.0A as its standard authentication mechanism, and in order to use it to make requests to Twitter's API, you'll need to go to https://dev.twitter.com/apps and create a sample application. There are four primary identifiers you'll need to note for an OAuth 1.0A workflow: consumer key, consumer secret, access token, and access token secret. Note that you will need an ordinary Twitter account in order to login, create an app, and get these credentials.\n",
    "\n",
    "<img src=\"files/resources/ch01-twitter/images/Twitter-AppCredentials.png\" width=\"600px\">"
   ]
  },
  {
   "cell_type": "markdown",
   "metadata": {},
   "source": [
    "If you are taking advantage of the virtual machine experience for this chapter that is powered by Vagrant, you should just be able to execute the code in this notebook without any worries whatsoever about installing dependencies. If you are running the code from your own development envioronment, however, be advised that these examples in this chapter take advantage of a Python package called [twitter](https://github.com/sixohsix/twitter) to make API calls. You can install this package in a terminal with [pip](https://pypi.python.org/pypi/pip) with the command `pip install twitter`, preferably from within a [Python virtual environment](https://pypi.python.org/pypi/virtualenv). "
   ]
  },
  {
   "cell_type": "markdown",
   "metadata": {},
   "source": [
    "Once installed, you should be able to open up a Python interpreter (or better yet, your [IPython](http://ipython.org/) interpreter) and get rolling."
   ]
  },
  {
   "cell_type": "markdown",
   "metadata": {},
   "source": [
    "## Example 1. Authorizing an application to access Twitter account data"
   ]
  },
  {
   "cell_type": "code",
   "execution_count": 10,
   "metadata": {},
   "outputs": [
    {
     "name": "stdout",
     "output_type": "stream",
     "text": [
      "PIP(1)                                                                  PIP(1)\r\n",
      "\r\n",
      "N\bNA\bAM\bME\bE\r\n",
      "       pip - A tool for installing and managing Python packages\r\n",
      "\r\n",
      "S\bSY\bYN\bNO\bOP\bPS\bSI\bIS\bS\r\n",
      "       pip <command> [options]\r\n",
      "\r\n",
      "       pip3 <command> [options]\r\n",
      "\r\n",
      "D\bDE\bES\bSC\bCR\bRI\bIP\bPT\bTI\bIO\bON\bN\r\n",
      "       p\bpi\bip\bp  is  a  Python package installer, recommended for installing Python\r\n",
      "       packages which are not available in the Debian archive.   It  can  work\r\n",
      "       with  version  control repositories (currently only Git, Mercurial, and\r\n",
      "       Bazaar repositories), logs output  extensively,  and  prevents  partial\r\n",
      "       installs by downloading all requirements before starting installation.\r\n",
      "\r\n",
      "       On  Debian,  p\bpi\bip\bp  is  the  command  to use when installing packages for\r\n",
      "       Python 2, while p\bpi\bip\bp3\b3 is the command to use when installing packages for\r\n",
      "       Python 3.\r\n",
      "\r\n",
      "C\bCO\bOM\bMM\bMA\bAN\bND\bDS\bS\r\n",
      "       The  command comes before any options.  The following commands are rec‐\r\n",
      "       ognized:\r\n",
      "\r\n",
      "       h\bhe\bel\blp\bp   Show help for commands.\r\n",
      "\r\n",
      "       i\bin\bns\bst\bta\bal\bll\bl\r\n",
      "              Install packages.\r\n",
      "\r\n",
      "       u\bun\bni\bin\bns\bst\bta\bal\bll\bl\r\n",
      "              Uninstall packages.\r\n",
      "\r\n",
      "       f\bfr\bre\bee\bez\bze\be Output installed packages in requirements format.\r\n",
      "\r\n",
      "       l\bli\bis\bst\bt   List installed packages.\r\n",
      "\r\n",
      "       s\bsh\bho\bow\bw   Show information about installed packages.\r\n",
      "\r\n",
      "       s\bse\bea\bar\brc\bch\bh Search PyPI for packages.\r\n",
      "\r\n",
      "       w\bwh\bhe\bee\bel\bl  Build wheels from your requirements.\r\n",
      "\r\n",
      "G\bGE\bEN\bNE\bER\bRA\bAL\bL O\bOP\bPT\bTI\bIO\bON\bNS\bS\r\n",
      "       This list is by no means complete, and it only describes options avail‐\r\n",
      "       able  to  all  commands.   Use p\bpi\bip\bp <\b<c\bco\bom\bmm\bma\ban\bnd\bd>\b> -\b--\b-h\bhe\bel\blp\bp for more details on\r\n",
      "       command specific options.  A few command options are provided below.\r\n",
      "\r\n",
      "       -\b-h\bh, -\b--\b-h\bhe\bel\blp\bp\r\n",
      "              Show more detailed command help.\r\n",
      "\r\n",
      "       -\b-v\bv, -\b--\b-v\bve\ber\brb\bbo\bos\bse\be\r\n",
      "              Give more output. Option is additive, and can be used  up  to  3\r\n",
      "              times.\r\n",
      "\r\n",
      "       -\b-V\bV, -\b--\b-v\bve\ber\brs\bsi\bio\bon\bn\r\n",
      "              Show version and exit.\r\n",
      "\r\n",
      "       -\b-q\bq, -\b--\b-q\bqu\bui\bie\bet\bt\r\n",
      "              Give less output.\r\n",
      "\r\n",
      "       -\b--\b-l\blo\bog\bg-\b-f\bfi\bil\ble\be _\b<_\bp_\ba_\bt_\bh_\b>\r\n",
      "              Path  to  a  verbose non-appending log, that only logs failures.\r\n",
      "              This log is active by default at _\b~_\b/_\b._\bp_\bi_\bp_\b/_\bp_\bi_\bp_\b._\bl_\bo_\bg.\r\n",
      "\r\n",
      "       -\b--\b-l\blo\bog\bg _\b<_\bp_\ba_\bt_\bh_\b>\r\n",
      "              Path to a verbose  appending  log.   This  log  is  inactive  by\r\n",
      "              default.\r\n",
      "\r\n",
      "       -\b--\b-p\bpr\bro\box\bxy\by _\b<_\bp_\br_\bo_\bx_\by_\b>\r\n",
      "              Specify a proxy in the form [\b[u\bus\bse\ber\br:\b:p\bpa\bas\bss\bsw\bwd\bd@\b@]\b]p\bpr\bro\box\bxy\by.\b.s\bse\ber\brv\bve\ber\br:\b:p\bpo\bor\brt\bt.\r\n",
      "\r\n",
      "       -\b--\b-t\bti\bim\bme\beo\bou\but\bt _\b<_\bs_\be_\bc_\b>\r\n",
      "              Set the socket timeout (default 15 seconds).\r\n",
      "\r\n",
      "       -\b--\b-e\bex\bxi\bis\bst\bts\bs-\b-a\bac\bct\bti\bio\bon\bn _\b<_\ba_\bc_\bt_\bi_\bo_\bn_\b>\r\n",
      "              Default  action  when a path already exists: (s)witch, (i)gnore,\r\n",
      "              (w)ipe, (b)ackup.\r\n",
      "\r\n",
      "       -\b--\b-c\bce\ber\brt\bt _\b<_\bp_\ba_\bt_\bh_\b>\r\n",
      "              Path to alternate CA bundle.\r\n",
      "\r\n",
      "I\bIN\bNS\bST\bTA\bAL\bLL\bL O\bOP\bPT\bTI\bIO\bON\bNS\bS\r\n",
      "       p\bpi\bip\bp i\bin\bns\bst\bta\bal\bll\bl installs packages from:\r\n",
      "\r\n",
      "          · PyPI (a.k.a. The Cheeseshop) and other indexes, using requirements\r\n",
      "            specifiers.\r\n",
      "\r\n",
      "          · VCS project urls.\r\n",
      "\r\n",
      "          · Local project directories.\r\n",
      "\r\n",
      "          · Local or remote source archives\r\n",
      "\r\n",
      "       -\b-e\be,_\b-_\b-_\be_\bd_\bi_\bt_\ba_\bb_\bl_\be <\b<p\bpa\bat\bth\bh/\b/u\bur\brl\bl>\b>\r\n",
      "              Install  a  project  in editable mode (i.e.  setuptools \"develop\r\n",
      "              mode\") from a local project path or a VCS url.\r\n",
      "\r\n",
      "       -\b-r\br,_\b-_\b-_\br_\be_\bq_\bu_\bi_\br_\be_\bm_\be_\bn_\bt <\b<f\bfi\bil\ble\be>\b>\r\n",
      "              Install from the given requirements file.  This  option  can  be\r\n",
      "              used multiple times.\r\n",
      "\r\n",
      "       -\b-b\bb,_\b-_\b-_\bb_\bu_\bi_\bl_\bd <\b<d\bdi\bir\br>\b>\r\n",
      "              Directory  to unpack packages into and build in.  The default in\r\n",
      "              a virtualenv is \"<venv path>/build\".   The  default  for  global\r\n",
      "              installs is \"<OS temp dir>/pip_build_<username>\".\r\n",
      "\r\n",
      "       -\b-t\bt,_\b-_\b-_\bt_\ba_\br_\bg_\be_\bt <\b<d\bdi\bir\br>\b>\r\n",
      "              Install packages into <dir>.\r\n",
      "\r\n",
      "       -\b-d\bd,_\b-_\b-_\bd_\bo_\bw_\bn_\bl_\bo_\ba_\bd <\b<d\bdi\bir\br>\b>\r\n",
      "              Download packages into <dir> instead of installing them, regard‐\r\n",
      "              less of what's already installed.\r\n",
      "\r\n",
      "       -\b--\b-d\bdo\bow\bwn\bnl\blo\boa\bad\bd-\b-c\bca\bac\bch\bhe\be _\b<_\bd_\bi_\br_\b>\r\n",
      "              Cache downloaded packages in <dir>.\r\n",
      "\r\n",
      "       -\b--\b-s\bsr\brc\bc _\b<_\bd_\bi_\br_\b>\r\n",
      "              Directory to check out editable projects into.  The default in a\r\n",
      "              virtualenv   is  \"<venv  path>/src\".   The  default  for  global\r\n",
      "              installs is \"<current dir>/src\".\r\n",
      "\r\n",
      "       -\b-U\bU, -\b--\b-u\bup\bpg\bgr\bra\bad\bde\be\r\n",
      "              Upgrade all packages to  the  newest  available  version.   This\r\n",
      "              process  is  recursive  regardless  of  whether  a dependency is\r\n",
      "              already satisfied.\r\n",
      "\r\n",
      "       -\b--\b-f\bfo\bor\brc\bce\be-\b-r\bre\bei\bin\bns\bst\bta\bal\bll\bl\r\n",
      "              When upgrading, reinstall all packages even if they are  already\r\n",
      "              up-to-date.\r\n",
      "\r\n",
      "       -\b-I\bI, -\b--\b-i\big\bgn\bno\bor\bre\be-\b-i\bin\bns\bst\bta\bal\bll\ble\bed\bd\r\n",
      "              Ignore the installed packages (reinstalling instead).\r\n",
      "\r\n",
      "       -\b--\b-n\bno\bo-\b-d\bde\bep\bps\bs\r\n",
      "              Don't install package dependencies.\r\n",
      "\r\n",
      "       -\b--\b-i\bin\bns\bst\bta\bal\bll\bl-\b-o\bop\bpt\bti\bio\bon\bn _\b<_\bo_\bp_\bt_\bi_\bo_\bn_\bs_\b>\r\n",
      "              Extra  arguments  to be supplied to the setup.py install command\r\n",
      "              (use like --install-option =\"--install-scripts=/usr/local/bin\").\r\n",
      "              Use  multiple  --install-option options to pass multiple options\r\n",
      "              to setup.py install. If you are using an option with a directory\r\n",
      "              path, be sure to use absolute path.\r\n",
      "\r\n",
      "       -\b--\b-g\bgl\blo\bob\bba\bal\bl-\b-o\bop\bpt\bti\bio\bon\bn _\b<_\bo_\bp_\bt_\bi_\bo_\bn_\bs_\b>\r\n",
      "              Extra  global options to be supplied to the setup.py call before\r\n",
      "              the install command.\r\n",
      "\r\n",
      "       -\b--\b-u\bus\bse\ber\br Install using the user scheme.\r\n",
      "\r\n",
      "       -\b--\b-e\beg\bgg\bg  Install packages as eggs, not 'flat', like  pip  normally  does.\r\n",
      "              This option is not about installing _\bf_\br_\bo_\bm eggs. (WARNING: Because\r\n",
      "              this option overrides pip's normal install  logic,  requirements\r\n",
      "              files may not behave as expected.)\r\n",
      "\r\n",
      "       -\b--\b-r\bro\boo\bot\bt _\b<_\bd_\bi_\br_\b>\r\n",
      "              Install everything relative to this alternate root directory.\r\n",
      "\r\n",
      "       -\b--\b-c\bco\bom\bmp\bpi\bil\ble\be\r\n",
      "              Compile py files to pyc.\r\n",
      "\r\n",
      "       -\b--\b-n\bno\bo-\b-c\bco\bom\bmp\bpi\bil\ble\be\r\n",
      "              Do not compile py files to pyc.\r\n",
      "\r\n",
      "       -\b--\b-n\bno\bo-\b-u\bus\bse\be-\b-w\bwh\bhe\bee\bel\bl\r\n",
      "              Do not find and prefer wheel archives when searching indexes and\r\n",
      "              find-links locations.\r\n",
      "\r\n",
      "       -\b--\b-p\bpr\bre\be  Include pre-release and development versions.  By  default,  pip\r\n",
      "              only finds stable versions.\r\n",
      "\r\n",
      "       -\b--\b-n\bno\bo-\b-c\bcl\ble\bea\ban\bn\r\n",
      "              Don't clean up build directories.\r\n",
      "\r\n",
      "       Package Index Options:\r\n",
      "\r\n",
      "       -\b-i\bi,_\b-_\b-_\bi_\bn_\bd_\be_\bx_\b-_\bu_\br_\bl <\b<u\bur\brl\bl>\b>\r\n",
      "              Base     URL     of     Python     Package     Index    (default\r\n",
      "              _\bh_\bt_\bt_\bp_\bs_\b:_\b/_\b/_\bp_\by_\bp_\bi_\b._\bp_\by_\bt_\bh_\bo_\bn_\b._\bo_\br_\bg_\b/_\bs_\bi_\bm_\bp_\bl_\be_\b/).\r\n",
      "\r\n",
      "       -\b--\b-e\bex\bxt\btr\bra\ba-\b-i\bin\bnd\bde\bex\bx-\b-u\bur\brl\bl _\b<_\bu_\br_\bl_\b>\r\n",
      "              Extra URLs of package indexes to use in addition to --index-url.\r\n",
      "\r\n",
      "       -\b--\b-n\bno\bo-\b-i\bin\bnd\bde\bex\bx\r\n",
      "              Ignore  package  index  (only  looking  at   --find-links   URLs\r\n",
      "              instead).\r\n",
      "\r\n",
      "       -\b-f\bf,_\b-_\b-_\bf_\bi_\bn_\bd_\b-_\bl_\bi_\bn_\bk_\bs <\b<u\bur\brl\bl>\b>\r\n",
      "              If  a  url  or path to an html file, then parse for links to ar‐\r\n",
      "              chives. If a local path or _\bf_\bi_\bl_\be_\b:_\b/_\b/ url that's a directory,  then\r\n",
      "              look for archives in the directory listing.\r\n",
      "\r\n",
      "       -\b--\b-a\bal\bll\blo\bow\bw-\b-e\bex\bxt\bte\ber\brn\bna\bal\bl _\b<_\bp_\ba_\bc_\bk_\ba_\bg_\be_\b>\r\n",
      "              Allow the installation of externally hosted files\r\n",
      "\r\n",
      "       -\b--\b-a\bal\bll\blo\bow\bw-\b-a\bal\bll\bl-\b-e\bex\bxt\bte\ber\brn\bna\bal\bl\r\n",
      "              Allow the installation of all externally hosted files\r\n",
      "\r\n",
      "       -\b--\b-a\bal\bll\blo\bow\bw-\b-u\bun\bnv\bve\ber\bri\bif\bfi\bie\bed\bd _\b<_\bp_\ba_\bc_\bk_\ba_\bg_\be_\b>\r\n",
      "              Allow the installation of insecure and unverifiable files\r\n",
      "\r\n",
      "       -\b--\b-p\bpr\bro\boc\bce\bes\bss\bs-\b-d\bde\bep\bpe\ben\bnd\bde\ben\bnc\bcy\by-\b-l\bli\bin\bnk\bks\bs\r\n",
      "              Enable the processing of dependency links.\r\n",
      "\r\n",
      "U\bUN\bNI\bIN\bNS\bST\bTA\bAL\bLL\bL O\bOP\bPT\bTI\bIO\bON\bNS\bS\r\n",
      "       pip is able to uninstall most installed packages. Known exceptions are:\r\n",
      "\r\n",
      "          · Pure  distutils  packages  installed with p\bpy\byt\bth\bho\bon\bn s\bse\bet\btu\bup\bp.\b.p\bpy\by i\bin\bns\bst\bta\bal\bll\bl,\r\n",
      "            which leave behind  no  metadata  to  determine  what  files  were\r\n",
      "            installed.\r\n",
      "\r\n",
      "          · Script wrappers installed by p\bpy\byt\bth\bho\bon\bn s\bse\bet\btu\bup\bp.\b.p\bpy\by d\bde\bev\bve\bel\blo\bop\bp.\r\n",
      "\r\n",
      "       -\b-r\br,_\b-_\b-_\br_\be_\bq_\bu_\bi_\br_\be_\bm_\be_\bn_\bt <\b<f\bfi\bil\ble\be>\b>\r\n",
      "              Uninstall  all  the  packages  listed  in the given requirements\r\n",
      "              file.  This option can be used multiple times.\r\n",
      "\r\n",
      "       -\b-y\by, -\b--\b-y\bye\bes\bs\r\n",
      "              Don't ask for confirmation of uninstall deletions.\r\n",
      "\r\n",
      "A\bAU\bUT\bTH\bHO\bOR\bRS\bS\r\n",
      "       This  manual  page  was  originally  written   by   Jeff   Licquia   <‐\r\n",
      "       _\bl_\bi_\bc_\bq_\bu_\bi_\ba_\b@_\bd_\be_\bb_\bi_\ba_\bn_\b._\bo_\br_\bg>,    later    rewritten    by    Carl    Chenet   <‐\r\n",
      "       _\bc_\bh_\ba_\bi_\bc_\ba_\b@_\bd_\be_\bb_\bi_\ba_\bn_\b._\bo_\br_\bg>.  It was rewritten again and the source converted to\r\n",
      "       reStructuredText by Barry Warsaw <_\bb_\ba_\br_\br_\by_\b@_\bd_\be_\bb_\bi_\ba_\bn_\b._\bo_\br_\bg>.\r\n",
      "\r\n",
      "       Permission  is  granted to copy, distribute and/or modify this document\r\n",
      "       under the terms of the GNU General Public License,  version  3  or  any\r\n",
      "       later version published by the Free Software Foundation.\r\n",
      "\r\n",
      "A\bAU\bUT\bTH\bHO\bOR\bR\r\n",
      "       Barry Warsaw <barry@debian.org>\r\n",
      "\r\n",
      "1.5.6                             2014-06-03                            PIP(1)\r\n"
     ]
    }
   ],
   "source": [
    "!man pip"
   ]
  },
  {
   "cell_type": "code",
   "execution_count": 7,
   "metadata": {},
   "outputs": [
    {
     "ename": "SyntaxError",
     "evalue": "Missing parentheses in call to 'print'. Did you mean print(twitter_api)? (<ipython-input-7-2f378dd4724f>, line 22)",
     "output_type": "error",
     "traceback": [
      "\u001b[0;36m  File \u001b[0;32m\"<ipython-input-7-2f378dd4724f>\"\u001b[0;36m, line \u001b[0;32m22\u001b[0m\n\u001b[0;31m    print twitter_api\u001b[0m\n\u001b[0m                    ^\u001b[0m\n\u001b[0;31mSyntaxError\u001b[0m\u001b[0;31m:\u001b[0m Missing parentheses in call to 'print'. Did you mean print(twitter_api)?\n"
     ]
    }
   ],
   "source": [
    "import twitter\n",
    "\n",
    "# XXX: Go to http://dev.twitter.com/apps/new to create an app and get values\n",
    "# for these credentials, which you'll need to provide in place of these\n",
    "# empty string values that are defined as placeholders.\n",
    "# See https://dev.twitter.com/docs/auth/oauth for more information \n",
    "# on Twitter's OAuth implementation.\n",
    "\n",
    "CONSUMER_KEY = ''\n",
    "CONSUMER_SECRET =''\n",
    "OAUTH_TOKEN = ''\n",
    "OAUTH_TOKEN_SECRET = ''\n",
    "\n",
    "auth = twitter.oauth.OAuth(OAUTH_TOKEN, OAUTH_TOKEN_SECRET,\n",
    "                           CONSUMER_KEY, CONSUMER_SECRET)\n",
    "\n",
    "twitter_api = twitter.Twitter(auth=auth)\n",
    "\n",
    "# Nothing to see by displaying twitter_api except that it's now a\n",
    "# defined variable\n",
    "\n",
    "print twitter_api"
   ]
  },
  {
   "cell_type": "markdown",
   "metadata": {},
   "source": [
    "## Example 2. Retrieving trends"
   ]
  },
  {
   "cell_type": "code",
   "execution_count": null,
   "metadata": {},
   "outputs": [],
   "source": [
    "# The Yahoo! Where On Earth ID for the entire world is 1.\n",
    "# See https://dev.twitter.com/docs/api/1.1/get/trends/place and\n",
    "# http://developer.yahoo.com/geo/geoplanet/\n",
    "\n",
    "WORLD_WOE_ID = 1\n",
    "US_WOE_ID = 23424977\n",
    "\n",
    "# Prefix ID with the underscore for query string parameterization.\n",
    "# Without the underscore, the twitter package appends the ID value\n",
    "# to the URL itself as a special case keyword argument.\n",
    "\n",
    "world_trends = twitter_api.trends.place(_id=WORLD_WOE_ID)\n",
    "us_trends = twitter_api.trends.place(_id=US_WOE_ID)\n",
    "\n",
    "print world_trends\n",
    "print\n",
    "print us_trends"
   ]
  },
  {
   "cell_type": "markdown",
   "metadata": {},
   "source": [
    "## Example 3. Displaying API responses as pretty-printed JSON"
   ]
  },
  {
   "cell_type": "code",
   "execution_count": null,
   "metadata": {},
   "outputs": [],
   "source": [
    "import json\n",
    "\n",
    "print json.dumps(world_trends, indent=1)\n",
    "print\n",
    "print json.dumps(us_trends, indent=1)"
   ]
  },
  {
   "cell_type": "markdown",
   "metadata": {},
   "source": [
    "## Example 4. Computing the intersection of two sets of trends"
   ]
  },
  {
   "cell_type": "code",
   "execution_count": null,
   "metadata": {},
   "outputs": [],
   "source": [
    "world_trends_set = set([trend['name'] \n",
    "                        for trend in world_trends[0]['trends']])\n",
    "\n",
    "us_trends_set = set([trend['name'] \n",
    "                     for trend in us_trends[0]['trends']]) \n",
    "\n",
    "common_trends = world_trends_set.intersection(us_trends_set)\n",
    "\n",
    "print common_trends"
   ]
  },
  {
   "cell_type": "markdown",
   "metadata": {},
   "source": [
    "## Example 5. Collecting search results"
   ]
  },
  {
   "cell_type": "code",
   "execution_count": null,
   "metadata": {},
   "outputs": [],
   "source": [
    "# Import unquote to prevent url encoding errors in next_results\n",
    "from urllib import unquote\n",
    "\n",
    "# XXX: Set this variable to a trending topic, \n",
    "# or anything else for that matter. The example query below\n",
    "# was a trending topic when this content was being developed\n",
    "# and is used throughout the remainder of this chapter.\n",
    "\n",
    "q = '#MentionSomeoneImportantForYou' \n",
    "\n",
    "count = 100\n",
    "\n",
    "# See https://dev.twitter.com/docs/api/1.1/get/search/tweets\n",
    "\n",
    "search_results = twitter_api.search.tweets(q=q, count=count)\n",
    "\n",
    "statuses = search_results['statuses']\n",
    "\n",
    "\n",
    "# Iterate through 5 more batches of results by following the cursor\n",
    "\n",
    "for _ in range(5):\n",
    "    print \"Length of statuses\", len(statuses)\n",
    "    try:\n",
    "        next_results = search_results['search_metadata']['next_results']\n",
    "    except KeyError, e: # No more results when next_results doesn't exist\n",
    "        break\n",
    "        \n",
    "    # Create a dictionary from next_results, which has the following form:\n",
    "    # ?max_id=313519052523986943&q=NCAA&include_entities=1\n",
    "    kwargs = dict([ kv.split('=') for kv in unquote(next_results[1:]).split(\"&\") ])\n",
    "    \n",
    "    search_results = twitter_api.search.tweets(**kwargs)\n",
    "    statuses += search_results['statuses']\n",
    "\n",
    "# Show one sample search result by slicing the list...\n",
    "print json.dumps(statuses[0], indent=1)"
   ]
  },
  {
   "cell_type": "markdown",
   "metadata": {},
   "source": [
    "Note: Should you desire to do so, you can load the same set of search results that are illustrated in the text of _Mining the Social Web_ by executing the code below that reads a snapshot of the data and stores it into the same statuses variable as was defined above. Alternatively, you can choose to skip execution of this cell in order to follow along with your own data."
   ]
  },
  {
   "cell_type": "code",
   "execution_count": null,
   "metadata": {},
   "outputs": [],
   "source": [
    "import json\n",
    "statuses = json.loads(open('resources/ch01-twitter/data/MentionSomeoneImportantForYou.json').read())\n",
    "\n",
    "# The result of the list comprehension is a list with only one element that\n",
    "# can be accessed by its index and set to the variable t\n",
    "t = [ status \n",
    "      for status in statuses\n",
    "          if status['id'] == 316948241264549888 ][0]\n",
    "\n",
    "# Explore the variable t to get familiarized with the data structure...\n",
    "\n",
    "print t['retweet_count']\n",
    "print t['retweeted_status']\n",
    "\n",
    "# Can you find the most retweeted tweet in your search results? Try do do it!"
   ]
  },
  {
   "cell_type": "markdown",
   "metadata": {},
   "source": [
    "## Example 6. Extracting text, screen names, and hashtags from tweets"
   ]
  },
  {
   "cell_type": "code",
   "execution_count": null,
   "metadata": {},
   "outputs": [],
   "source": [
    "status_texts = [ status['text'] \n",
    "                 for status in statuses ]\n",
    "\n",
    "screen_names = [ user_mention['screen_name'] \n",
    "                 for status in statuses\n",
    "                     for user_mention in status['entities']['user_mentions'] ]\n",
    "\n",
    "hashtags = [ hashtag['text'] \n",
    "             for status in statuses\n",
    "                 for hashtag in status['entities']['hashtags'] ]\n",
    "\n",
    "# Compute a collection of all words from all tweets\n",
    "words = [ w \n",
    "          for t in status_texts \n",
    "              for w in t.split() ]\n",
    "\n",
    "# Explore the first 5 items for each...\n",
    "\n",
    "print json.dumps(status_texts[0:5], indent=1)\n",
    "print json.dumps(screen_names[0:5], indent=1) \n",
    "print json.dumps(hashtags[0:5], indent=1)\n",
    "print json.dumps(words[0:5], indent=1)"
   ]
  },
  {
   "cell_type": "markdown",
   "metadata": {},
   "source": [
    "## Example 7. Creating a basic frequency distribution from the words in tweets"
   ]
  },
  {
   "cell_type": "code",
   "execution_count": null,
   "metadata": {},
   "outputs": [],
   "source": [
    "from collections import Counter\n",
    "\n",
    "for item in [words, screen_names, hashtags]:\n",
    "    c = Counter(item)\n",
    "    print c.most_common()[:10] # top 10\n",
    "    print"
   ]
  },
  {
   "cell_type": "markdown",
   "metadata": {},
   "source": [
    "## Example 8. Using prettytable to display tuples in a nice tabular format"
   ]
  },
  {
   "cell_type": "code",
   "execution_count": null,
   "metadata": {},
   "outputs": [],
   "source": [
    "from prettytable import PrettyTable\n",
    "\n",
    "for label, data in (('Word', words), \n",
    "                    ('Screen Name', screen_names), \n",
    "                    ('Hashtag', hashtags)):\n",
    "    pt = PrettyTable(field_names=[label, 'Count']) \n",
    "    c = Counter(data)\n",
    "    [ pt.add_row(kv) for kv in c.most_common()[:10] ]\n",
    "    pt.align[label], pt.align['Count'] = 'l', 'r' # Set column alignment\n",
    "    print pt"
   ]
  },
  {
   "cell_type": "markdown",
   "metadata": {},
   "source": [
    "## Example 9. Calculating lexical diversity for tweets"
   ]
  },
  {
   "cell_type": "code",
   "execution_count": null,
   "metadata": {},
   "outputs": [],
   "source": [
    "# A function for computing lexical diversity\n",
    "def lexical_diversity(tokens):\n",
    "    return 1.0*len(set(tokens))/len(tokens) \n",
    "\n",
    "# A function for computing the average number of words per tweet\n",
    "def average_words(statuses):\n",
    "    total_words = sum([ len(s.split()) for s in statuses ]) \n",
    "    return 1.0*total_words/len(statuses)\n",
    "\n",
    "print lexical_diversity(words)\n",
    "print lexical_diversity(screen_names)\n",
    "print lexical_diversity(hashtags)\n",
    "print average_words(status_texts)"
   ]
  },
  {
   "cell_type": "markdown",
   "metadata": {},
   "source": [
    "## Example 10. Finding the most popular retweets"
   ]
  },
  {
   "cell_type": "code",
   "execution_count": null,
   "metadata": {},
   "outputs": [],
   "source": [
    "retweets = [\n",
    "            # Store out a tuple of these three values ...\n",
    "            (status['retweet_count'], \n",
    "             status['retweeted_status']['user']['screen_name'],\n",
    "             status['text']) \n",
    "            \n",
    "            # ... for each status ...\n",
    "            for status in statuses \n",
    "            \n",
    "            # ... so long as the status meets this condition.\n",
    "                if status.has_key('retweeted_status')\n",
    "           ]\n",
    "\n",
    "# Slice off the first 5 from the sorted results and display each item in the tuple\n",
    "\n",
    "pt = PrettyTable(field_names=['Count', 'Screen Name', 'Text'])\n",
    "[ pt.add_row(row) for row in sorted(retweets, reverse=True)[:5] ]\n",
    "pt.max_width['Text'] = 50\n",
    "pt.align= 'l'\n",
    "print pt"
   ]
  },
  {
   "cell_type": "markdown",
   "metadata": {},
   "source": [
    "## Example 11. Looking up users who have retweeted a status"
   ]
  },
  {
   "cell_type": "code",
   "execution_count": null,
   "metadata": {},
   "outputs": [],
   "source": [
    "# Get the original tweet id for a tweet from its retweeted_status node \n",
    "# and insert it here in place of the sample value that is provided\n",
    "# from the text of the book\n",
    "\n",
    "_retweets = twitter_api.statuses.retweets(id=317127304981667841)\n",
    "print [r['user']['screen_name'] for r in _retweets]"
   ]
  },
  {
   "cell_type": "markdown",
   "metadata": {},
   "source": [
    "## Example 12. Plotting frequencies of words"
   ]
  },
  {
   "cell_type": "code",
   "execution_count": null,
   "metadata": {},
   "outputs": [],
   "source": [
    "word_counts = sorted(Counter(words).values(), reverse=True)\n",
    "\n",
    "plt.loglog(word_counts)\n",
    "plt.ylabel(\"Freq\")\n",
    "plt.xlabel(\"Word Rank\")"
   ]
  },
  {
   "cell_type": "markdown",
   "metadata": {},
   "source": [
    "## Example 13. Generating histograms of words, screen names, and hashtags"
   ]
  },
  {
   "cell_type": "code",
   "execution_count": null,
   "metadata": {},
   "outputs": [],
   "source": [
    "for label, data in (('Words', words), \n",
    "                    ('Screen Names', screen_names), \n",
    "                    ('Hashtags', hashtags)):\n",
    "\n",
    "    # Build a frequency map for each set of data\n",
    "    # and plot the values\n",
    "    c = Counter(data)\n",
    "    plt.hist(c.values())\n",
    "    \n",
    "    # Add a title and y-label ...\n",
    "    plt.title(label)\n",
    "    plt.ylabel(\"Number of items in bin\")\n",
    "    plt.xlabel(\"Bins (number of times an item appeared)\")\n",
    "    \n",
    "    # ... and display as a new figure\n",
    "    plt.figure()"
   ]
  },
  {
   "cell_type": "markdown",
   "metadata": {},
   "source": [
    "## Example 14. Generating a histogram of retweet counts"
   ]
  },
  {
   "cell_type": "code",
   "execution_count": null,
   "metadata": {},
   "outputs": [],
   "source": [
    "# Using underscores while unpacking values in\n",
    "# a tuple is idiomatic for discarding them\n",
    "\n",
    "counts = [count for count, _, _ in retweets]\n",
    "\n",
    "plt.hist(counts)\n",
    "plt.title(\"Retweets\")\n",
    "plt.xlabel('Bins (number of times retweeted)')\n",
    "plt.ylabel('Number of tweets in bin')\n",
    "\n",
    "print counts"
   ]
  },
  {
   "cell_type": "markdown",
   "metadata": {},
   "source": [
    "Note: This histogram gives you an idea of how many times tweets are retweeted with the x-axis defining partitions for tweets that have been retweeted some number of times and the y-axis telling you how many tweets fell into each bin. For example, a y-axis value of 5 for the \"15-20 bin\" on the x-axis means that there were 5 tweets that were retweeted between 15 and 20 times.\n",
    "\n",
    "Here's another variation that transforms the data using the (automatically imported from numpy) log function in order to improve the resolution of the plot."
   ]
  },
  {
   "cell_type": "code",
   "execution_count": null,
   "metadata": {},
   "outputs": [],
   "source": [
    "# Using underscores while unpacking values in\n",
    "# a tuple is idiomatic for discarding them\n",
    "\n",
    "counts = [count for count, _, _ in retweets]\n",
    "\n",
    "# Taking the log of the *data values* themselves can \n",
    "# often provide quick and valuable insight into the\n",
    "# underlying distribution as well. Try it back on\n",
    "# Example 13 and see if it helps.\n",
    "\n",
    "plt.hist(log(counts))\n",
    "plt.title(\"Retweets\")\n",
    "plt.xlabel('Log[Bins (number of times retweeted)]')\n",
    "plt.ylabel('Log[Number of tweets in bin]')\n",
    "\n",
    "print log(counts)"
   ]
  }
 ],
 "metadata": {
  "kernelspec": {
   "display_name": "Python 3",
   "language": "python",
   "name": "python3"
  },
  "language_info": {
   "codemirror_mode": {
    "name": "ipython",
    "version": 3
   },
   "file_extension": ".py",
   "mimetype": "text/x-python",
   "name": "python",
   "nbconvert_exporter": "python",
   "pygments_lexer": "ipython3",
   "version": "3.6.5"
  }
 },
 "nbformat": 4,
 "nbformat_minor": 1
}
